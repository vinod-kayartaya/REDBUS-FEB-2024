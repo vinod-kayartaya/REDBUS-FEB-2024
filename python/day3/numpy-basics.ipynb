{
 "cells": [
  {
   "cell_type": "code",
   "execution_count": 8,
   "id": "9f36cb5b-bc75-4983-8133-c8e4a6fcf494",
   "metadata": {},
   "outputs": [],
   "source": [
    "import numpy as np\n",
    "# a = np.array?\n",
    "# ? next to a method will display the help on that method/function"
   ]
  },
  {
   "cell_type": "code",
   "execution_count": 9,
   "id": "9f17220d-134d-4efb-9589-a3409a649fbd",
   "metadata": {},
   "outputs": [
    {
     "data": {
      "text/plain": [
       "array([5, 7, 9])"
      ]
     },
     "execution_count": 9,
     "metadata": {},
     "output_type": "execute_result"
    }
   ],
   "source": [
    "a = np.array([1, 2, 3])\n",
    "b = np.array([4, 5, 6])\n",
    "a+b"
   ]
  },
  {
   "cell_type": "code",
   "execution_count": 10,
   "id": "d0128bd6-6cc6-4081-8006-45d8dc046f5e",
   "metadata": {},
   "outputs": [
    {
     "data": {
      "text/plain": [
       "array([[0., 0., 0.],\n",
       "       [0., 0., 0.],\n",
       "       [0., 0., 0.]])"
      ]
     },
     "execution_count": 10,
     "metadata": {},
     "output_type": "execute_result"
    }
   ],
   "source": [
    "np.zeros([3, 3])"
   ]
  },
  {
   "cell_type": "code",
   "execution_count": 11,
   "id": "4a645aaf-e299-4967-939c-78a1ab06880a",
   "metadata": {},
   "outputs": [
    {
     "data": {
      "text/plain": [
       "array([[0.17571427, 0.22975357, 0.52581426, 0.60214119],\n",
       "       [0.3954481 , 0.43577055, 0.25539745, 0.06987345],\n",
       "       [0.2967575 , 0.59966152, 0.08718209, 0.7628773 ]])"
      ]
     },
     "execution_count": 11,
     "metadata": {},
     "output_type": "execute_result"
    }
   ],
   "source": [
    "np.random.rand(3, 4)"
   ]
  },
  {
   "cell_type": "code",
   "execution_count": 17,
   "id": "db33f12e-3588-46cb-b7e7-5903c1c61c22",
   "metadata": {},
   "outputs": [
    {
     "data": {
      "text/plain": [
       "array([[ 6,  7,  8],\n",
       "       [15, 25, 35]])"
      ]
     },
     "execution_count": 17,
     "metadata": {},
     "output_type": "execute_result"
    }
   ],
   "source": [
    "ar1 = np.array([[1, 2, 3], [10, 20, 30]])\n",
    "ar2 = np.array([5, 5, 5])\n",
    "ar1 + ar2"
   ]
  },
  {
   "cell_type": "code",
   "execution_count": 28,
   "id": "2e808c82-af5a-4c5a-8a5e-120bbd7e148d",
   "metadata": {},
   "outputs": [
    {
     "data": {
      "text/plain": [
       "array([144, 100,  25])"
      ]
     },
     "execution_count": 28,
     "metadata": {},
     "output_type": "execute_result"
    }
   ],
   "source": [
    "nums = np.array([12, 10, 5])\n",
    "np.square(nums)"
   ]
  },
  {
   "cell_type": "code",
   "execution_count": 29,
   "id": "506c4171-b458-4fef-940f-a500f37b2b7e",
   "metadata": {},
   "outputs": [
    {
     "data": {
      "text/plain": [
       "array([-0.53657292, -0.54402111, -0.95892427])"
      ]
     },
     "execution_count": 29,
     "metadata": {},
     "output_type": "execute_result"
    }
   ],
   "source": [
    "np.sin(nums)"
   ]
  },
  {
   "cell_type": "code",
   "execution_count": 30,
   "id": "cf369e61-da09-4837-806a-cec932d2cda8",
   "metadata": {},
   "outputs": [
    {
     "data": {
      "text/plain": [
       "array([1.62754791e+05, 2.20264658e+04, 1.48413159e+02])"
      ]
     },
     "execution_count": 30,
     "metadata": {},
     "output_type": "execute_result"
    }
   ],
   "source": [
    "np.exp(nums)"
   ]
  },
  {
   "cell_type": "code",
   "execution_count": 34,
   "id": "908e8424-5cbf-4b5b-99f3-76159910153d",
   "metadata": {},
   "outputs": [
    {
     "name": "stdout",
     "output_type": "stream",
     "text": [
      "976\n",
      "139.42857142857142\n",
      "0\n",
      "458\n"
     ]
    }
   ],
   "source": [
    "nums = np.array([12, 94, 49, 29, 0, 458, 334])\n",
    "print(np.sum(nums))\n",
    "print(np.average(nums))\n",
    "print(np.min(nums))\n",
    "print(np.max(nums))"
   ]
  },
  {
   "cell_type": "code",
   "execution_count": 35,
   "id": "a1e341cb-f6b3-425b-8d21-5529f65205d0",
   "metadata": {},
   "outputs": [
    {
     "data": {
      "text/plain": [
       "array([[1, 3],\n",
       "       [2, 4]])"
      ]
     },
     "execution_count": 35,
     "metadata": {},
     "output_type": "execute_result"
    }
   ],
   "source": [
    "arr = np.array([[1, 2], [3, 4]])\n",
    "np.transpose(arr)"
   ]
  },
  {
   "cell_type": "code",
   "execution_count": 39,
   "id": "4bd2f51f-3cb2-488b-8238-c3c1398554fc",
   "metadata": {},
   "outputs": [
    {
     "data": {
      "text/plain": [
       "array([[5]])"
      ]
     },
     "execution_count": 39,
     "metadata": {},
     "output_type": "execute_result"
    }
   ],
   "source": [
    "arr = np.array([[1, 2, 3], [4, 5, 6], [7, 8, 9]])\n",
    "# arr[:2, 1:]\n",
    "# arr[1:, 1:]\n",
    "arr[1:2, 1:2]"
   ]
  },
  {
   "cell_type": "code",
   "execution_count": null,
   "id": "07be7f36-a858-4961-a4ee-dbbd8f1cc772",
   "metadata": {},
   "outputs": [],
   "source": []
  }
 ],
 "metadata": {
  "kernelspec": {
   "display_name": "Python 3 (ipykernel)",
   "language": "python",
   "name": "python3"
  },
  "language_info": {
   "codemirror_mode": {
    "name": "ipython",
    "version": 3
   },
   "file_extension": ".py",
   "mimetype": "text/x-python",
   "name": "python",
   "nbconvert_exporter": "python",
   "pygments_lexer": "ipython3",
   "version": "3.12.0"
  }
 },
 "nbformat": 4,
 "nbformat_minor": 5
}
